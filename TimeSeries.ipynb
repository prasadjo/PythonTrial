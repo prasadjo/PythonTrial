{
  "nbformat": 4,
  "nbformat_minor": 0,
  "metadata": {
    "colab": {
      "name": "TimeSeries.ipynb",
      "version": "0.3.2",
      "provenance": [],
      "collapsed_sections": [],
      "include_colab_link": true
    },
    "kernelspec": {
      "name": "python3",
      "display_name": "Python 3"
    }
  },
  "cells": [
    {
      "cell_type": "markdown",
      "metadata": {
        "id": "view-in-github",
        "colab_type": "text"
      },
      "source": [
        "[View in Colaboratory](https://colab.research.google.com/github/prasadjo/PythonTrial/blob/master/TimeSeries.ipynb)"
      ]
    },
    {
      "metadata": {
        "id": "YvblNVAD6bfz",
        "colab_type": "code",
        "colab": {
          "base_uri": "https://localhost:8080/",
          "height": 403
        },
        "outputId": "273f8e0c-c348-4d42-f356-cc402d5ade2f"
      },
      "cell_type": "code",
      "source": [
        "!pip install quandl"
      ],
      "execution_count": 1,
      "outputs": [
        {
          "output_type": "stream",
          "text": [
            "Collecting quandl\n",
            "  Downloading https://files.pythonhosted.org/packages/d3/70/c05e132321ae2375f26428e7097230b3b735a31d6b78077d5f15b3fb0e6b/Quandl-3.4.2-py2.py3-none-any.whl\n",
            "Requirement already satisfied: requests>=2.7.0 in /usr/local/lib/python3.6/dist-packages (from quandl) (2.18.4)\n",
            "Requirement already satisfied: numpy>=1.8 in /usr/local/lib/python3.6/dist-packages (from quandl) (1.14.5)\n",
            "Collecting more-itertools (from quandl)\n",
            "\u001b[?25l  Downloading https://files.pythonhosted.org/packages/79/b1/eace304ef66bd7d3d8b2f78cc374b73ca03bc53664d78151e9df3b3996cc/more_itertools-4.3.0-py3-none-any.whl (48kB)\n",
            "\u001b[K    100% |████████████████████████████████| 51kB 6.5MB/s \n",
            "\u001b[?25hCollecting inflection>=0.3.1 (from quandl)\n",
            "  Downloading https://files.pythonhosted.org/packages/d5/35/a6eb45b4e2356fe688b21570864d4aa0d0a880ce387defe9c589112077f8/inflection-0.3.1.tar.gz\n",
            "Requirement already satisfied: pandas>=0.14 in /usr/local/lib/python3.6/dist-packages (from quandl) (0.22.0)\n",
            "Requirement already satisfied: python-dateutil in /usr/local/lib/python3.6/dist-packages (from quandl) (2.5.3)\n",
            "Requirement already satisfied: six in /usr/local/lib/python3.6/dist-packages (from quandl) (1.11.0)\n",
            "Requirement already satisfied: urllib3<1.23,>=1.21.1 in /usr/local/lib/python3.6/dist-packages (from requests>=2.7.0->quandl) (1.22)\n",
            "Requirement already satisfied: certifi>=2017.4.17 in /usr/local/lib/python3.6/dist-packages (from requests>=2.7.0->quandl) (2018.8.24)\n",
            "Requirement already satisfied: chardet<3.1.0,>=3.0.2 in /usr/local/lib/python3.6/dist-packages (from requests>=2.7.0->quandl) (3.0.4)\n",
            "Requirement already satisfied: idna<2.7,>=2.5 in /usr/local/lib/python3.6/dist-packages (from requests>=2.7.0->quandl) (2.6)\n",
            "Requirement already satisfied: pytz>=2011k in /usr/local/lib/python3.6/dist-packages (from pandas>=0.14->quandl) (2018.5)\n",
            "Building wheels for collected packages: inflection\n",
            "  Running setup.py bdist_wheel for inflection ... \u001b[?25l-\b \bdone\n",
            "\u001b[?25h  Stored in directory: /root/.cache/pip/wheels/9f/5a/d3/6fc3bf6516d2a3eb7e18f9f28b472110b59325f3f258fe9211\n",
            "Successfully built inflection\n",
            "Installing collected packages: more-itertools, inflection, quandl\n",
            "Successfully installed inflection-0.3.1 more-itertools-4.3.0 quandl-3.4.2\n"
          ],
          "name": "stdout"
        }
      ]
    },
    {
      "metadata": {
        "id": "myir2O6y6uVa",
        "colab_type": "code",
        "colab": {}
      },
      "cell_type": "code",
      "source": [
        "# pandas for data manipulation\n",
        "import pandas as pd\n",
        "\n",
        "#import plotting libraries\n",
        "import matplotlib.pyplot as plt\n",
        "import matplotlib\n",
        "%matplotlib inline\n",
        "\n",
        "import seaborn as sns\n"
      ],
      "execution_count": 0,
      "outputs": []
    },
    {
      "metadata": {
        "id": "VtvxMqqT7FAo",
        "colab_type": "code",
        "colab": {}
      },
      "cell_type": "code",
      "source": [
        "# quandl for financial data\n",
        "import quandl\n",
        "quandl.ApiConfig.api_key = '5a1dzjNuVCjSHzvSeAgn' ## This is found on quandl website under Account Information section\n",
        "# Retrieve TSLA data from Quandl\n",
        "tesla = quandl.get('WIKI/TSLA')"
      ],
      "execution_count": 0,
      "outputs": []
    },
    {
      "metadata": {
        "id": "kmgviKcPHG07",
        "colab_type": "text"
      },
      "cell_type": "markdown",
      "source": [
        "**Fetch data**"
      ]
    },
    {
      "metadata": {
        "id": "WynbRIgE7SrB",
        "colab_type": "code",
        "colab": {
          "base_uri": "https://localhost:8080/",
          "height": 225
        },
        "outputId": "cd4ee7a3-b3e0-4fb1-bd5e-f28d48afb06b"
      },
      "cell_type": "code",
      "source": [
        "# Retrieve TSLA data from Quandl\n",
        "tesla = quandl.get('WIKI/TSLA')\n",
        "\n",
        "# Retrieve the GM data from Quandl\n",
        "gm = quandl.get('WIKI/GM')\n",
        "gm.head(5)"
      ],
      "execution_count": 7,
      "outputs": [
        {
          "output_type": "execute_result",
          "data": {
            "text/html": [
              "<div>\n",
              "<style scoped>\n",
              "    .dataframe tbody tr th:only-of-type {\n",
              "        vertical-align: middle;\n",
              "    }\n",
              "\n",
              "    .dataframe tbody tr th {\n",
              "        vertical-align: top;\n",
              "    }\n",
              "\n",
              "    .dataframe thead th {\n",
              "        text-align: right;\n",
              "    }\n",
              "</style>\n",
              "<table border=\"1\" class=\"dataframe\">\n",
              "  <thead>\n",
              "    <tr style=\"text-align: right;\">\n",
              "      <th></th>\n",
              "      <th>Open</th>\n",
              "      <th>High</th>\n",
              "      <th>Low</th>\n",
              "      <th>Close</th>\n",
              "      <th>Volume</th>\n",
              "      <th>Ex-Dividend</th>\n",
              "      <th>Split Ratio</th>\n",
              "      <th>Adj. Open</th>\n",
              "      <th>Adj. High</th>\n",
              "      <th>Adj. Low</th>\n",
              "      <th>Adj. Close</th>\n",
              "      <th>Adj. Volume</th>\n",
              "    </tr>\n",
              "    <tr>\n",
              "      <th>Date</th>\n",
              "      <th></th>\n",
              "      <th></th>\n",
              "      <th></th>\n",
              "      <th></th>\n",
              "      <th></th>\n",
              "      <th></th>\n",
              "      <th></th>\n",
              "      <th></th>\n",
              "      <th></th>\n",
              "      <th></th>\n",
              "      <th></th>\n",
              "      <th></th>\n",
              "    </tr>\n",
              "  </thead>\n",
              "  <tbody>\n",
              "    <tr>\n",
              "      <th>2010-11-18</th>\n",
              "      <td>35.00</td>\n",
              "      <td>35.99</td>\n",
              "      <td>33.89</td>\n",
              "      <td>34.19</td>\n",
              "      <td>457044300.0</td>\n",
              "      <td>0.0</td>\n",
              "      <td>1.0</td>\n",
              "      <td>29.988317</td>\n",
              "      <td>30.836558</td>\n",
              "      <td>29.037259</td>\n",
              "      <td>29.294302</td>\n",
              "      <td>457044300.0</td>\n",
              "    </tr>\n",
              "    <tr>\n",
              "      <th>2010-11-19</th>\n",
              "      <td>34.15</td>\n",
              "      <td>34.50</td>\n",
              "      <td>33.11</td>\n",
              "      <td>34.26</td>\n",
              "      <td>107842000.0</td>\n",
              "      <td>0.0</td>\n",
              "      <td>1.0</td>\n",
              "      <td>29.260029</td>\n",
              "      <td>29.559912</td>\n",
              "      <td>28.368948</td>\n",
              "      <td>29.354278</td>\n",
              "      <td>107842000.0</td>\n",
              "    </tr>\n",
              "    <tr>\n",
              "      <th>2010-11-22</th>\n",
              "      <td>34.20</td>\n",
              "      <td>34.48</td>\n",
              "      <td>33.81</td>\n",
              "      <td>34.08</td>\n",
              "      <td>36650600.0</td>\n",
              "      <td>0.0</td>\n",
              "      <td>1.0</td>\n",
              "      <td>29.302870</td>\n",
              "      <td>29.542776</td>\n",
              "      <td>28.968714</td>\n",
              "      <td>29.200053</td>\n",
              "      <td>36650600.0</td>\n",
              "    </tr>\n",
              "    <tr>\n",
              "      <th>2010-11-23</th>\n",
              "      <td>33.95</td>\n",
              "      <td>33.99</td>\n",
              "      <td>33.19</td>\n",
              "      <td>33.25</td>\n",
              "      <td>31170200.0</td>\n",
              "      <td>0.0</td>\n",
              "      <td>1.0</td>\n",
              "      <td>29.088668</td>\n",
              "      <td>29.122940</td>\n",
              "      <td>28.437493</td>\n",
              "      <td>28.488901</td>\n",
              "      <td>31170200.0</td>\n",
              "    </tr>\n",
              "    <tr>\n",
              "      <th>2010-11-24</th>\n",
              "      <td>33.73</td>\n",
              "      <td>33.80</td>\n",
              "      <td>33.22</td>\n",
              "      <td>33.48</td>\n",
              "      <td>26138000.0</td>\n",
              "      <td>0.0</td>\n",
              "      <td>1.0</td>\n",
              "      <td>28.900170</td>\n",
              "      <td>28.960146</td>\n",
              "      <td>28.463197</td>\n",
              "      <td>28.685967</td>\n",
              "      <td>26138000.0</td>\n",
              "    </tr>\n",
              "  </tbody>\n",
              "</table>\n",
              "</div>"
            ],
            "text/plain": [
              "             Open   High    Low  Close       Volume  Ex-Dividend  Split Ratio  \\\n",
              "Date                                                                            \n",
              "2010-11-18  35.00  35.99  33.89  34.19  457044300.0          0.0          1.0   \n",
              "2010-11-19  34.15  34.50  33.11  34.26  107842000.0          0.0          1.0   \n",
              "2010-11-22  34.20  34.48  33.81  34.08   36650600.0          0.0          1.0   \n",
              "2010-11-23  33.95  33.99  33.19  33.25   31170200.0          0.0          1.0   \n",
              "2010-11-24  33.73  33.80  33.22  33.48   26138000.0          0.0          1.0   \n",
              "\n",
              "            Adj. Open  Adj. High   Adj. Low  Adj. Close  Adj. Volume  \n",
              "Date                                                                  \n",
              "2010-11-18  29.988317  30.836558  29.037259   29.294302  457044300.0  \n",
              "2010-11-19  29.260029  29.559912  28.368948   29.354278  107842000.0  \n",
              "2010-11-22  29.302870  29.542776  28.968714   29.200053   36650600.0  \n",
              "2010-11-23  29.088668  29.122940  28.437493   28.488901   31170200.0  \n",
              "2010-11-24  28.900170  28.960146  28.463197   28.685967   26138000.0  "
            ]
          },
          "metadata": {
            "tags": []
          },
          "execution_count": 7
        }
      ]
    },
    {
      "metadata": {
        "id": "0iMRgWsNL6Tt",
        "colab_type": "text"
      },
      "cell_type": "markdown",
      "source": [
        "*Plot the data to visual pattern*"
      ]
    },
    {
      "metadata": {
        "id": "n8i67C4AHOVg",
        "colab_type": "code",
        "colab": {
          "base_uri": "https://localhost:8080/",
          "height": 543
        },
        "outputId": "54d04709-1c41-43ce-a41b-38686bef8f03"
      },
      "cell_type": "code",
      "source": [
        "# The adjusted close accounts for stock splits, so that is what we should graph\n",
        "plt.plot(gm.index, gm['Adj. Close'])\n",
        "plt.title('GM Stock Price')\n",
        "plt.ylabel('Price ($)');\n",
        "plt.show()\n",
        "\n",
        "plt.plot(tesla.index, tesla['Adj. Close'], 'r')\n",
        "plt.title('Tesla Stock Price')\n",
        "plt.ylabel('Price ($)');\n",
        "plt.show();"
      ],
      "execution_count": 8,
      "outputs": [
        {
          "output_type": "display_data",
          "data": {
            "image/png": "[encoded data removed]",
            "text/plain": [
              "<matplotlib.figure.Figure at 0x7f9a27ab6ef0>"
            ]
          },
          "metadata": {
            "tags": []
          }
        },
        {
          "output_type": "display_data",
          "data": {
            "image/png": "[encoded data removed]",
            "text/plain": [
              "<matplotlib.figure.Figure at 0x7f9a27b61748>"
            ]
          },
          "metadata": {
            "tags": []
          }
        }
      ]
    },
    {
      "metadata": {
        "id": "7jH9WqzKL_yT",
        "colab_type": "code",
        "colab": {}
      },
      "cell_type": "code",
      "source": [
        ""
      ],
      "execution_count": 0,
      "outputs": []
    }
  ]
}